{
 "cells": [
  {
   "cell_type": "markdown",
   "metadata": {},
   "source": [
    "<center><h1>Numpy Tutorial</h1></center>"
   ]
  },
  {
   "cell_type": "markdown",
   "metadata": {},
   "source": [
    "<ul>\n",
    "<li>\n",
    "<h3>Creating Arrays </h3>\n",
    "</li>\n",
    "</ul>"
   ]
  },
  {
   "cell_type": "code",
   "execution_count": null,
   "metadata": {},
   "outputs": [],
   "source": [
    "import numpy as np\n",
    "array1=np.array([1,2,3,4,5,6])\n",
    "print (array1)\n",
    "\n",
    "print (array1[0:6])\n",
    "print (array1[:6])\n",
    "print (array1[3:6])\n",
    "print (array1[:])"
   ]
  },
  {
   "cell_type": "code",
   "execution_count": null,
   "metadata": {},
   "outputs": [],
   "source": [
    "import numpy as np\n",
    "array1=np.array([(1,2,3),(4.5,5,6),(7,8,9)], dtype=np.float32)\n",
    "#print (array1)\n",
    "print (array1[2,2])   # prints 2nd row, 2nd col element\n",
    "print (array1[0:2])   # prints rows 0,1\n",
    "print (array1[0:3:2]) # prints rows between 0-3 with stepSize 2\n",
    "print (array1[0:3,2]) # prints  2nd col of matrix\n",
    "print (array1[0:3,0:2]) #prints matrix with \n",
    "print (array1.shape)  "
   ]
  },
  {
   "cell_type": "code",
   "execution_count": null,
   "metadata": {},
   "outputs": [],
   "source": [
    "import numpy as np\n",
    "array1=np.array([[1,2,3],[4.5,5,6]], dtype=int)\n",
    "print (array1)"
   ]
  },
  {
   "cell_type": "code",
   "execution_count": null,
   "metadata": {},
   "outputs": [],
   "source": [
    "import numpy as np\n",
    "array1=np.array([[(1.5,2,3), (4,5,6)], [(3,2,1), (4,5,6)]],dtype=np.float32)\n",
    "print (array1)\n",
    "print (array1.shape)"
   ]
  },
  {
   "cell_type": "code",
   "execution_count": null,
   "metadata": {},
   "outputs": [],
   "source": [
    "#create array of  Zeros\n",
    "array3=np.zeros((3,4)) #creates array of 3-rows 4-columns \n",
    "print (array3)"
   ]
  },
  {
   "cell_type": "code",
   "execution_count": null,
   "metadata": {},
   "outputs": [],
   "source": [
    "#create array of  Zeros\n",
    "array3=np.ones((3,4),dtype=int) #creates array of 3-rows 4-columns \n",
    "print (array3)"
   ]
  },
  {
   "cell_type": "code",
   "execution_count": null,
   "metadata": {},
   "outputs": [],
   "source": [
    "arr5=np.arange(0,10)  #creates array with elements 0-9    \n",
    "print (arr5)\n",
    "arr5=np.arange(0,10,2)  #creates array with elements between  0-9 with step size 2   \n",
    "print (arr5)"
   ]
  },
  {
   "cell_type": "code",
   "execution_count": null,
   "metadata": {},
   "outputs": [],
   "source": [
    "arr6=np.linspace(1,10,3) # creates array using elements between 1-10  with 3 evenly spaces samples\n",
    "print (arr6)"
   ]
  },
  {
   "cell_type": "code",
   "execution_count": null,
   "metadata": {},
   "outputs": [],
   "source": [
    "e = np.full((2,2),7)  # creates array of 2X2 and fills with constant 7\n",
    "print (e)"
   ]
  },
  {
   "cell_type": "code",
   "execution_count": null,
   "metadata": {},
   "outputs": [],
   "source": [
    "f = np.eye(3)  #creates 3x3 identity matrix\n",
    "print (f)"
   ]
  },
  {
   "cell_type": "code",
   "execution_count": null,
   "metadata": {},
   "outputs": [],
   "source": [
    "arr7=np.random.random((2,3)) #creates 2x3 array with random elements \n",
    "print (arr7)"
   ]
  },
  {
   "cell_type": "code",
   "execution_count": null,
   "metadata": {},
   "outputs": [],
   "source": [
    "arr8=np.empty((3,2)) \n",
    "print (arr8)"
   ]
  },
  {
   "cell_type": "markdown",
   "metadata": {},
   "source": [
    "<ul>\n",
    "<li>\n",
    "<h3>Loading and Storing arrays into Disk</h3>\n",
    "</li>\n",
    "</ul>"
   ]
  },
  {
   "cell_type": "code",
   "execution_count": null,
   "metadata": {},
   "outputs": [],
   "source": [
    "np.save('my_array',e)  # stores array into disk with name my_array.npy\n",
    "arr9=np.load('my_array.npy') #loads the stored array into variabe arr9 \n",
    "print (arr9 )"
   ]
  },
  {
   "cell_type": "markdown",
   "metadata": {},
   "source": [
    "<ul>\n",
    "<li>\n",
    "<h3>Inspecting Arrays</h3>\n",
    "</li>\n",
    "</ul>"
   ]
  },
  {
   "cell_type": "code",
   "execution_count": null,
   "metadata": {},
   "outputs": [],
   "source": [
    "array1=np.array([[1,2,0],[4.5,0,6]], dtype=np.float32)\n",
    "print (array1.shape) #prints row col\n",
    "print (array1.ndim)  #prints dimensions of the array\n",
    "print (len(array1))  #prints length of the array\n",
    "print (array1.size)  #prints total number of elements in the array\n",
    "print (array1.dtype) #prints datatype of elements in the array\n",
    "print (array1.dtype.name) #\n",
    "print (array1.astype(int)) #converts array elements to integer type\n",
    "print (array1.max()) #prints max element\n",
    "\n",
    "print (array1.max(axis=0)) #prints row that has max value\n",
    "print (array1.max(axis=1)) # prints col that has max value\n",
    "print (array1.min()) #prints min element\n",
    "print (array1.sum()) # prints sum of all the elements in the array\n",
    "print (array1.view()) #displays the array elements\n",
    "\n"
   ]
  },
  {
   "cell_type": "markdown",
   "metadata": {},
   "source": [
    "<ul>\n",
    "<li>\n",
    "<h3>Asking For Help</h3>\n",
    "</li>\n",
    "</ul>"
   ]
  },
  {
   "cell_type": "code",
   "execution_count": null,
   "metadata": {},
   "outputs": [],
   "source": [
    "np.info(np.argmax)  \n"
   ]
  },
  {
   "cell_type": "markdown",
   "metadata": {},
   "source": [
    "<ul>\n",
    "<li>\n",
    "<h3>Transposing Array</h3>\n",
    "</li>\n",
    "</ul>"
   ]
  },
  {
   "cell_type": "code",
   "execution_count": null,
   "metadata": {},
   "outputs": [],
   "source": [
    "import numpy as np\n",
    "array1=np.array([(1.5,2,3), (4,5,6), (3,2,1), (4,5,6)],dtype=np.float32)\n",
    "print (array1)\n",
    "tranposeArray=np.transpose(array1)\n",
    "print (tranposeArray)"
   ]
  },
  {
   "cell_type": "code",
   "execution_count": null,
   "metadata": {},
   "outputs": [],
   "source": [
    "import numpy as np\n",
    "array1=np.array([(1.5,2,3), (4,5,6), (3,2,1), (4,5,6)],dtype=np.float32)\n",
    "print (array1)\n",
    "\n",
    "print (array1.ravel()) #flatten the array\n",
    "\n",
    "array1.reshape(4,3) #reshapes array into 4-rows and 3-columns \n",
    "print (array1)\n",
    "\n",
    "array2=np.array([(7,8,9),(10,11,12)], dtype=np.float32)\n",
    "\n",
    "array3=np.array([(13,14,15,16)])\n",
    "arr4=np.concatenate((array1,array2),axis=0) # concatenates array1 and array2\n",
    "\n",
    "print (arr4)\n",
    "\n",
    "\n",
    "arr5=np.vstack((array1,array2))\n",
    "print (arr5)\n",
    "\n"
   ]
  },
  {
   "cell_type": "code",
   "execution_count": null,
   "metadata": {},
   "outputs": [],
   "source": [
    "import numpy as np\n",
    "array1=np.array([(1.5,2,3), (4,5,6), (3,2,1)],dtype=np.float32)\n",
    "print (array1)\n",
    "array6=np.array([(4,5,6),(4,5,6), (3,2,1)])\n",
    "print (array6)\n",
    "array7=np.hstack((array1,array6))\n",
    "print (array7)"
   ]
  },
  {
   "cell_type": "code",
   "execution_count": null,
   "metadata": {},
   "outputs": [],
   "source": [
    "import numpy as np\n",
    "rnd_number=np.random.randn()\n",
    "print (rnd_number)"
   ]
  },
  {
   "cell_type": "code",
   "execution_count": null,
   "metadata": {},
   "outputs": [],
   "source": [
    "import numpy as np\n",
    "array1=np.array([(1,2,3),(4.5,5,6),(7,8,9)], dtype=np.float32)\n",
    "print (array1)\n",
    "\n",
    "b=np.ravel(array1)  # Sysntax->[numpy.ravel(a, order)] Return a contiguous flattened array.\n",
    "print (b)\n",
    "b.fill(5)\n",
    "print (array1)\n",
    "c=array1.reshape(-1) # same as above\n",
    "print (c)\n",
    "\n",
    "d=array1.flatten() # 1-D array copy of the elements of an array in row-major order.\n",
    "print (d)"
   ]
  },
  {
   "cell_type": "code",
   "execution_count": null,
   "metadata": {
    "collapsed": true
   },
   "outputs": [],
   "source": []
  },
  {
   "cell_type": "code",
   "execution_count": null,
   "metadata": {
    "collapsed": true
   },
   "outputs": [],
   "source": []
  }
 ],
 "metadata": {
  "kernelspec": {
   "display_name": "Python 2",
   "language": "python",
   "name": "python2"
  },
  "language_info": {
   "codemirror_mode": {
    "name": "ipython",
    "version": 3
   },
   "file_extension": ".py",
   "mimetype": "text/x-python",
   "name": "python",
   "nbconvert_exporter": "python",
   "pygments_lexer": "ipython3",
   "version": "3.6.1"
  }
 },
 "nbformat": 4,
 "nbformat_minor": 2
}
