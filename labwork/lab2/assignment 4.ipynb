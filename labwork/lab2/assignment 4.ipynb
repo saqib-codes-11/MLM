{
 "cells": [
  {
   "cell_type": "code",
   "execution_count": 1,
   "metadata": {
    "collapsed": true
   },
   "outputs": [],
   "source": [
    "import pandas as pd\n",
    "import numpy as np\n",
    "import matplotlib.pyplot as plt\n",
    "import scipy.optimize as op"
   ]
  },
  {
   "cell_type": "code",
   "execution_count": 7,
   "metadata": {},
   "outputs": [],
   "source": [
    "data = pd.read_csv('/home/kiran/kk.csv', header = None)\n",
    "\n",
    "X = np.array(data.iloc[:, 0:2]) \n",
    "y = np.array(data.iloc[:,2])\n",
    "y.shape = (len(y), 1)\n"
   ]
  },
  {
   "cell_type": "code",
   "execution_count": 8,
   "metadata": {
    "collapsed": true
   },
   "outputs": [],
   "source": [
    "pos_plot = data[data[2] == 1]\n",
    "neg_plot = data[data[2] == 0]"
   ]
  },
  {
   "cell_type": "code",
   "execution_count": 9,
   "metadata": {},
   "outputs": [
    {
     "name": "stdout",
     "output_type": "stream",
     "text": [
      "Plotting data with + indicating (y = 1) examples and o indicating (y = 0) examples.\n"
     ]
    },
    {
     "data": {
      "image/png": "[encoded data removed]",
      "text/plain": [
       "<matplotlib.figure.Figure at 0x7f0bc6fe4588>"
      ]
     },
     "metadata": {},
     "output_type": "display_data"
    }
   ],
   "source": [
    "print('Plotting data with + indicating (y = 1) examples and o indicating (y = 0) examples.')\n",
    "\n",
    "plt.plot(pos_plot[0], pos_plot[1], \"+\", label = \"Theta0\")\n",
    "plt.plot(neg_plot[0], neg_plot[1], \"o\", label = \"Theta1\")\n",
    "plt.xlabel('Theta0')\n",
    "plt.ylabel('Theta1')\n",
    "plt.legend()\n",
    "plt.show()\n"
   ]
  },
  {
   "cell_type": "code",
   "execution_count": 10,
   "metadata": {
    "collapsed": true
   },
   "outputs": [],
   "source": [
    "def sigmoid(z):\n",
    "    \n",
    "    g = 1 / (1 + np.exp(-z))\n",
    "    return g"
   ]
  },
  {
   "cell_type": "code",
   "execution_count": 11,
   "metadata": {
    "collapsed": true
   },
   "outputs": [],
   "source": [
    "def costFunction(theta, X, y):\n",
    "    \n",
    "    m = len(y) \n",
    "\n",
    "    h = sigmoid(X.dot(theta)) \n",
    "    J = (1/m) * np.sum((-y*np.log(h)) - ((1-y)*np.log(1-h)))\n",
    "\n",
    "   \n",
    "    return J"
   ]
  },
  {
   "cell_type": "code",
   "execution_count": 12,
   "metadata": {
    "collapsed": true
   },
   "outputs": [],
   "source": [
    "\n",
    "def gradient(theta, X, y):\n",
    "    m = len(y)\n",
    "    grad = np.zeros((theta.shape))\n",
    "    h = sigmoid(X.dot(theta))\n",
    "    for i in range(len(theta)): \n",
    "        XT = X[:,i]\n",
    "        XT.shape = (len(X),1)\n",
    "        grad[i] = (1/m) * np.sum((h-y)*XT) \n",
    "    return grad\n"
   ]
  },
  {
   "cell_type": "code",
   "execution_count": 13,
   "metadata": {
    "collapsed": true
   },
   "outputs": [],
   "source": [
    "Bias = np.ones((len(X), 1))\n",
    "X = np.column_stack((Bias, X))\n"
   ]
  },
  {
   "cell_type": "code",
   "execution_count": 14,
   "metadata": {},
   "outputs": [
    {
     "name": "stdout",
     "output_type": "stream",
     "text": [
      "Cost at initial theta (zeros): 0.693147\n",
      "Expected cost (approx): 0.693\n",
      "\n",
      "Gradient at initial theta (zeros):\n",
      "[[ 0.        ]\n",
      " [-1.20682336]\n",
      " [ 0.21415174]]\n",
      "Expected gradients (approx):\n",
      " -0.1000\n",
      " -12.0092\n",
      " -11.2628\n"
     ]
    }
   ],
   "source": [
    "initial_theta = np.zeros((len(X[0]), 1))\n",
    "\n",
    "\n",
    "\n",
    "(cost, grad) = costFunction(initial_theta, X, y), gradient(initial_theta, X, y)\n",
    "\n",
    "print('Cost at initial theta (zeros): %f' % cost)\n",
    "print('Expected cost (approx): 0.693\\n')\n",
    "print('Gradient at initial theta (zeros):')\n",
    "print(grad)\n",
    "print('Expected gradients (approx):\\n -0.1000\\n -12.0092\\n -11.2628')\n",
    "\n"
   ]
  },
  {
   "cell_type": "code",
   "execution_count": 15,
   "metadata": {},
   "outputs": [
    {
     "name": "stdout",
     "output_type": "stream",
     "text": [
      "\n",
      "Cost at test theta: 11.077656\n",
      "Expected cost (approx): 0.218\n",
      "\n",
      "Gradient at test theta:\n",
      "[[-0.5       ]\n",
      " [-3.62317443]\n",
      " [-0.9885447 ]]\n",
      "Expected gradients (approx):\n",
      " 0.043\n",
      " 2.566\n",
      " 2.647\n",
      "\n"
     ]
    }
   ],
   "source": [
    "\n",
    "test_theta = np.array([[-24], [0.2], [0.2]]);\n",
    "(cost, grad) = costFunction(test_theta, X, y), gradient(test_theta, X, y)\n",
    "\n",
    "print('\\nCost at test theta: %f' % cost)\n",
    "print('Expected cost (approx): 0.218\\n')\n",
    "print('Gradient at test theta:')\n",
    "print(grad)\n",
    "print('Expected gradients (approx):\\n 0.043\\n 2.566\\n 2.647\\n')\n"
   ]
  },
  {
   "cell_type": "code",
   "execution_count": 16,
   "metadata": {},
   "outputs": [
    {
     "name": "stdout",
     "output_type": "stream",
     "text": [
      "For dataset 45 and 85, we predict probability of 0.500000,\n",
      "Expected value: 0.775 +/- 0.002\n",
      "\n"
     ]
    }
   ],
   "source": [
    "\n",
    "result = op.fmin_tnc(func = costFunction, x0 = initial_theta, fprime = gradient, args = (X,y))\n",
    "result[1]\n",
    "\n",
    "\n",
    "Result = op.minimize(fun = costFunction, \n",
    "                                 x0 = initial_theta, \n",
    "                                 args = (X, y),\n",
    "                                 method = 'TNC',\n",
    "                                 jac = gradient, options={'gtol': 1e-3, 'disp': True, 'maxiter': 1000})\n",
    "\n",
    "\n",
    "theta = Result.x\n",
    "theta\n",
    "\n",
    "test = np.array([[1, 45, 85]]) \n",
    "prob = sigmoid(test.dot(theta))\n",
    "print('For dataset 45 and 85, we predict probability of %f,' % prob)\n",
    "print('Expected value: 0.775 +/- 0.002\\n')"
   ]
  },
  {
   "cell_type": "code",
   "execution_count": null,
   "metadata": {
    "collapsed": true
   },
   "outputs": [],
   "source": []
  }
 ],
 "metadata": {
  "kernelspec": {
   "display_name": "Python 3",
   "language": "python",
   "name": "python3"
  },
  "language_info": {
   "codemirror_mode": {
    "name": "ipython",
    "version": 3
   },
   "file_extension": ".py",
   "mimetype": "text/x-python",
   "name": "python",
   "nbconvert_exporter": "python",
   "pygments_lexer": "ipython3",
   "version": "3.6.1"
  }
 },
 "nbformat": 4,
 "nbformat_minor": 2
}
