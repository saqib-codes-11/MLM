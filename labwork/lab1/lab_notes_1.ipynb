{
 "cells": [
  {
   "cell_type": "markdown",
   "metadata": {
    "slideshow": {
     "slide_type": "slide"
    }
   },
   "source": [
    "# Machine Learning - Tutorial Lab\n"
   ]
  },
  {
   "cell_type": "markdown",
   "metadata": {
    "slideshow": {
     "slide_type": "slide"
    }
   },
   "source": [
    "## Lab 1 : Introduction to Tools And Usage\n",
    "\n"
   ]
  },
  {
   "cell_type": "markdown",
   "metadata": {
    "slideshow": {
     "slide_type": "subslide"
    }
   },
   "source": [
    "\n",
    "* Prequisites - Git & Github Usage, Python\n",
    "\n",
    "* IDE - Jupyter notebook from Anaconda3 \n",
    "\n",
    "* Programming Language - Python 3.6\n",
    "\n",
    "* Framework - Tensorflow  & TensorBoard "
   ]
  },
  {
   "cell_type": "markdown",
   "metadata": {
    "slideshow": {
     "slide_type": "slide"
    }
   },
   "source": [
    "### Why Git\n",
    "\n",
    "\n"
   ]
  },
  {
   "cell_type": "markdown",
   "metadata": {
    "collapsed": true,
    "slideshow": {
     "slide_type": "fragment"
    }
   },
   "source": [
    "#### Source Code Management Tool"
   ]
  },
  {
   "cell_type": "markdown",
   "metadata": {
    "collapsed": true,
    "slideshow": {
     "slide_type": "fragment"
    }
   },
   "source": [
    "### Other SCM Tools\n",
    "\n",
    "\n",
    "1. SCCS - Source Code Control Systems\n",
    "2. Apache Subversion - SVN \n",
    "3. Bitbucket\n"
   ]
  },
  {
   "cell_type": "markdown",
   "metadata": {
    "slideshow": {
     "slide_type": "slide"
    }
   },
   "source": [
    "## Basic Git Commands\n",
    "\n",
    "\n",
    "### To fetch/copy project\n",
    "\n",
    "\n",
    "\n",
    "git clone projectFile\n",
    "\n",
    "Ex. \n",
    "\n",
    "git clone https://github.com/sachinsshetty/ml_lab_ecsc_306.git\n",
    "\n",
    "\n"
   ]
  },
  {
   "cell_type": "markdown",
   "metadata": {
    "slideshow": {
     "slide_type": "subslide"
    }
   },
   "source": [
    "## To update repository \n",
    "\n",
    "### git pull"
   ]
  },
  {
   "cell_type": "markdown",
   "metadata": {
    "collapsed": true,
    "slideshow": {
     "slide_type": "slide"
    }
   },
   "source": [
    "## Tensorflow and TensorBoard\n",
    "\n"
   ]
  },
  {
   "cell_type": "markdown",
   "metadata": {
    "slideshow": {
     "slide_type": "slide"
    }
   },
   "source": [
    "## Other frameworks used for Machine Learning\n",
    "\n",
    "1. Theano \n",
    "2. Torch\n",
    "3. Caffe\n",
    "4. SciKit Learn"
   ]
  },
  {
   "cell_type": "markdown",
   "metadata": {
    "slideshow": {
     "slide_type": "slide"
    }
   },
   "source": [
    "### Why TensorFlow"
   ]
  },
  {
   "cell_type": "markdown",
   "metadata": {
    "slideshow": {
     "slide_type": "slide"
    }
   },
   "source": [
    "## TensorFlow\n",
    "\n",
    "* Open source software library for numerical computation using data flow  graphs\n",
    "\n",
    "* Originally developed by Google Brain Team to conduct machine learning and deep neural networks research"
   ]
  },
  {
   "cell_type": "markdown",
   "metadata": {
    "slideshow": {
     "slide_type": "subslide"
    }
   },
   "source": [
    "## Features\n",
    "\n",
    "* Python API\n",
    "\n",
    "* Portability: deploy computation to one or more CPUs or GPUs in a desktop, server, or mobile device with a single API\n",
    "\n",
    "* Flexibility: from Raspberry Pi, Android, Windows, iOS, Linux to server farms\n",
    "\n",
    "* Visualization (TensorBoard)\n",
    "\n",
    "* Checkpoints (for managing experiments)\n"
   ]
  },
  {
   "cell_type": "markdown",
   "metadata": {
    "slideshow": {
     "slide_type": "subslide"
    }
   },
   "source": [
    "## Companies using Tensorflow\n",
    "\n",
    "\n",
    "* Google\n",
    "\n",
    "* OpenAI\n",
    "\n",
    "* DeepMind\n",
    "\n",
    "* Snapchat\n",
    "\n",
    "* Uber\n",
    "\n",
    "* Airbus\n",
    "\n",
    "* Dropbox\n"
   ]
  },
  {
   "cell_type": "markdown",
   "metadata": {
    "collapsed": true,
    "slideshow": {
     "slide_type": "slide"
    }
   },
   "source": [
    "\n",
    "\n",
    "\n",
    " Everything in TensorFlow is based on creating a computational graph\n",
    "\n",
    "It is a network of nodes, with each node known as an operation, running some function that can be as simple as addition or subtraction to as complex as some multi variate equation.\n",
    "\n",
    "Nodes in the graph represent mathematical operations, while the graph edges represent the multidimensional data arrays (tensors) communicated between them\n",
    "\n"
   ]
  },
  {
   "cell_type": "markdown",
   "metadata": {
    "slideshow": {
     "slide_type": "subslide"
    }
   },
   "source": [
    "Computational graphs are a nice way to think about mathematical expressions. For example, consider the expression \n",
    "\n",
    "\n",
    "e=(a+b)∗(b+1). \n",
    "\n",
    "\n",
    "There are three operations: two additions and one multiplication. \n"
   ]
  },
  {
   "cell_type": "markdown",
   "metadata": {
    "slideshow": {
     "slide_type": "subslide"
    }
   },
   "source": [
    "  let’s introduce two intermediary variables, c and d\n",
    "\n",
    " so that every function’s output has a variable. We now have:\n",
    "\n",
    " c=a+b\n",
    "\n",
    "d=b+1\n",
    "\n",
    " e=c∗d\n",
    "\n"
   ]
  },
  {
   "cell_type": "markdown",
   "metadata": {
    "slideshow": {
     "slide_type": "subslide"
    }
   },
   "source": [
    " To create a computational graph, we make each of these operations, along with the input variables, into nodes. When one node’s value is the input to another node, an arrow goes from one to another.\n"
   ]
  },
  {
   "cell_type": "markdown",
   "metadata": {
    "slideshow": {
     "slide_type": "subslide"
    }
   },
   "source": [
    "![alt text](tree-def.png \"Title\")"
   ]
  },
  {
   "cell_type": "markdown",
   "metadata": {
    "slideshow": {
     "slide_type": "slide"
    }
   },
   "source": [
    "### Assignment"
   ]
  },
  {
   "cell_type": "markdown",
   "metadata": {
    "collapsed": true,
    "slideshow": {
     "slide_type": "slide"
    }
   },
   "source": [
    "### Github Account\n",
    "\n",
    "### git commands\n",
    "* git add\n",
    "* git commit \n"
   ]
  },
  {
   "cell_type": "markdown",
   "metadata": {
    "slideshow": {
     "slide_type": "slide"
    }
   },
   "source": [
    "Tensorboard graph for below equations\n",
    "\n",
    "\n",
    "\n"
   ]
  },
  {
   "cell_type": "markdown",
   "metadata": {
    "slideshow": {
     "slide_type": "subslide"
    }
   },
   "source": [
    "1. $$ (a+b)^2 = a^2 + b^2 + 2ab $$\n",
    "2. $$ (a+b)^3 = a^3 + b^3 + 3ab(a+b) $$\n"
   ]
  },
  {
   "cell_type": "markdown",
   "metadata": {
    "slideshow": {
     "slide_type": "slide"
    }
   },
   "source": [
    "## Extra Slides"
   ]
  },
  {
   "cell_type": "markdown",
   "metadata": {
    "slideshow": {
     "slide_type": "slide"
    }
   },
   "source": [
    "\n",
    "\n",
    "\n",
    "\n",
    "\n",
    "### Add file to staging index \n",
    "\n",
    "git add fileName\n",
    "\n",
    "\n",
    "\n",
    "git add example1.ipynb\n",
    "\n",
    "\n",
    "\n",
    "### To check status \n",
    "\n",
    "git status\n",
    "\n",
    "\n",
    "\n",
    "### To Commit file to repository\n",
    "\n",
    "\n",
    "git commit -m \"Message For Commit\"\n",
    "\n",
    "\n",
    "\n"
   ]
  },
  {
   "cell_type": "code",
   "execution_count": null,
   "metadata": {
    "collapsed": true
   },
   "outputs": [],
   "source": []
  },
  {
   "cell_type": "markdown",
   "metadata": {
    "slideshow": {
     "slide_type": "slide"
    }
   },
   "source": [
    "### To undo changes\n",
    "\n",
    "#### From working directory\n",
    "\n",
    "\n",
    "git checkout -- filename\n",
    "\n",
    "Ex. \n",
    "\n",
    "git checkout file1.ipynb\n",
    "\n",
    "\n",
    "\n",
    "#### From staging index\n",
    "\n",
    "git reset HEAD filename\n",
    "\n",
    "Ex. \n",
    "\n",
    "git reset HEAD filename.html\n",
    "\n",
    "\n"
   ]
  }
 ],
 "metadata": {
  "celltoolbar": "Slideshow",
  "kernelspec": {
   "display_name": "Python 2",
   "language": "python",
   "name": "python2"
  },
  "language_info": {
   "codemirror_mode": {
    "name": "ipython",
    "version": 3
   },
   "file_extension": ".py",
   "mimetype": "text/x-python",
   "name": "python",
   "nbconvert_exporter": "python",
   "pygments_lexer": "ipython3",
   "version": "3.6.1"
  }
 },
 "nbformat": 4,
 "nbformat_minor": 2
}
